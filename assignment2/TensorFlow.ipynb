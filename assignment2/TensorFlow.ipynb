{
  "nbformat": 4,
  "nbformat_minor": 0,
  "metadata": {
    "colab": {
      "name": "TensorFlow.ipynb",
      "version": "0.3.2",
      "views": {},
      "default_view": {},
      "provenance": []
    },
    "kernelspec": {
      "display_name": "Python 3",
      "name": "python3",
      "language": "python"
    },
    "accelerator": "GPU"
  },
  "cells": [
    {
      "metadata": {
        "id": "W3qyOqu0WZBj",
        "colab_type": "text"
      },
      "cell_type": "markdown",
      "source": [
        "## What's this TensorFlow business?\n",
        "\n",
        "You've written a lot of code in this assignment to provide a whole host of neural network functionality. Dropout, Batch Norm, and 2D convolutions are some of the workhorses of deep learning in computer vision. You've also worked hard to make your code efficient and vectorized.\n",
        "\n",
        "For the last part of this assignment, though, we're going to leave behind your beautiful codebase and instead migrate to one of two popular deep learning frameworks: in this instance, TensorFlow (or PyTorch, if you switch over to that notebook)\n",
        "\n",
        "#### What is it?\n",
        "TensorFlow is a system for executing computational graphs over Tensor objects, with native support for performing backpropogation for its Variables. In it, we work with Tensors which are n-dimensional arrays analogous to the numpy ndarray.\n",
        "\n",
        "#### Why?\n",
        "\n",
        "* Our code will now run on GPUs! Much faster training. Writing your own modules to run on GPUs is beyond the scope of this class, unfortunately.\n",
        "* We want you to be ready to use one of these frameworks for your project so you can experiment more efficiently than if you were writing every feature you want to use by hand. \n",
        "* We want you to stand on the shoulders of giants! TensorFlow and PyTorch are both excellent frameworks that will make your lives a lot easier, and now that you understand their guts, you are free to use them :) \n",
        "* We want you to be exposed to the sort of deep learning code you might run into in academia or industry. "
      ]
    },
    {
      "metadata": {
        "id": "UogmFjfUXEli",
        "colab_type": "code",
        "colab": {
          "autoexec": {
            "startup": false,
            "wait_interval": 0
          },
          "output_extras": [
            {
              "item_id": 5
            }
          ],
          "base_uri": "https://localhost:8080/",
          "height": 136
        },
        "outputId": "50e6aa48-f726-486e-e186-9fef797bf813",
        "executionInfo": {
          "status": "ok",
          "timestamp": 1518783434705,
          "user_tz": -480,
          "elapsed": 26823,
          "user": {
            "displayName": "Yanran Wu",
            "photoUrl": "https://lh3.googleusercontent.com/a/default-user=s128",
            "userId": "106541725246409677955"
          }
        }
      },
      "cell_type": "code",
      "source": [
        "!apt-get install -y -qq software-properties-common python-software-properties module-init-tools\n",
        "!add-apt-repository -y ppa:alessandro-strada/ppa 2>&1 > /dev/null\n",
        "!apt-get update -qq 2>&1 > /dev/null\n",
        "!apt-get -y install -qq google-drive-ocamlfuse fuse\n",
        "from google.colab import auth\n",
        "auth.authenticate_user()\n",
        "from oauth2client.client import GoogleCredentials\n",
        "creds = GoogleCredentials.get_application_default()\n",
        "import getpass\n",
        "!google-drive-ocamlfuse -headless -id={creds.client_id} -secret={creds.client_secret} < /dev/null 2>&1 | grep URL\n",
        "vcode = getpass.getpass()\n",
        "!echo {vcode} | google-drive-ocamlfuse -headless -id={creds.client_id} -secret={creds.client_secret}"
      ],
      "execution_count": 5,
      "outputs": [
        {
          "output_type": "stream",
          "text": [
            "gpg: keybox '/tmp/tmp087vn4t3/pubring.gpg' created\n",
            "gpg: /tmp/tmp087vn4t3/trustdb.gpg: trustdb created\n",
            "gpg: key AD5F235DF639B041: public key \"Launchpad PPA for Alessandro Strada\" imported\n",
            "gpg: Total number processed: 1\n",
            "gpg:               imported: 1\n",
            "Warning: apt-key output should not be parsed (stdout is not a terminal)\n",
            "··········\n"
          ],
          "name": "stdout"
        }
      ]
    },
    {
      "metadata": {
        "id": "RmwzlNbdXa7a",
        "colab_type": "code",
        "colab": {
          "autoexec": {
            "startup": false,
            "wait_interval": 0
          },
          "output_extras": [
            {
              "item_id": 1
            }
          ],
          "base_uri": "https://localhost:8080/",
          "height": 51
        },
        "outputId": "e7cf3237-f2c6-42e8-ea05-dbd699a6f8ad",
        "executionInfo": {
          "status": "ok",
          "timestamp": 1518780535471,
          "user_tz": -480,
          "elapsed": 2686,
          "user": {
            "displayName": "Yanran Wu",
            "photoUrl": "https://lh3.googleusercontent.com/a/default-user=s128",
            "userId": "106541725246409677955"
          }
        }
      },
      "cell_type": "code",
      "source": [
        "!mkdir -p drive\n",
        "!google-drive-ocamlfuse drive"
      ],
      "execution_count": 10,
      "outputs": [
        {
          "output_type": "stream",
          "text": [
            "fuse: mountpoint is not empty\r\n",
            "fuse: if you are sure this is safe, use the 'nonempty' mount option\r\n"
          ],
          "name": "stdout"
        }
      ]
    },
    {
      "metadata": {
        "id": "YCjbgUceX0Ve",
        "colab_type": "code",
        "colab": {
          "autoexec": {
            "startup": false,
            "wait_interval": 0
          }
        }
      },
      "cell_type": "code",
      "source": [
        "import os\n",
        "os.chdir(\"drive/assignment2\")"
      ],
      "execution_count": 0,
      "outputs": []
    },
    {
      "metadata": {
        "id": "rnKGYzcZYK0K",
        "colab_type": "code",
        "colab": {
          "autoexec": {
            "startup": false,
            "wait_interval": 0
          },
          "output_extras": [
            {
              "item_id": 1
            }
          ],
          "base_uri": "https://localhost:8080/",
          "height": 102
        },
        "outputId": "56c70bd8-afd6-40eb-a726-f6e69a34fd4e",
        "executionInfo": {
          "status": "ok",
          "timestamp": 1518783454524,
          "user_tz": -480,
          "elapsed": 1276,
          "user": {
            "displayName": "Yanran Wu",
            "photoUrl": "https://lh3.googleusercontent.com/a/default-user=s128",
            "userId": "106541725246409677955"
          }
        }
      },
      "cell_type": "code",
      "source": [
        "!ls"
      ],
      "execution_count": 8,
      "outputs": [
        {
          "output_type": "stream",
          "text": [
            "BatchNormalization.ipynb     Dropout.ipynb\t       PyTorch.ipynb\r\n",
            "collectSubmission.sh\t     frameworkpython\t       requirements.txt\r\n",
            "ConvolutionalNetworks.ipynb  FullyConnectedNets.ipynb  start_ipython_osx.sh\r\n",
            "cs231n\t\t\t     kitten.jpg\t\t       TensorFlow.ipynb\r\n",
            "drive\t\t\t     puppy.jpg\r\n"
          ],
          "name": "stdout"
        }
      ]
    },
    {
      "metadata": {
        "id": "l-Lr8AB8WZBl",
        "colab_type": "text"
      },
      "cell_type": "markdown",
      "source": [
        "## How will I learn TensorFlow?\n",
        "\n",
        "TensorFlow has many excellent tutorials available, including those from [Google themselves](https://www.tensorflow.org/get_started/get_started).\n",
        "\n",
        "Otherwise, this notebook will walk you through much of what you need to do to train models in TensorFlow. See the end of the notebook for some links to helpful tutorials if you want to learn more or need further clarification on topics that aren't fully explained here."
      ]
    },
    {
      "metadata": {
        "id": "uQgbad9mWZBo",
        "colab_type": "text"
      },
      "cell_type": "markdown",
      "source": [
        "## Load Datasets\n"
      ]
    },
    {
      "metadata": {
        "id": "Z2RNcmZ8WZBq",
        "colab_type": "code",
        "colab": {
          "autoexec": {
            "startup": false,
            "wait_interval": 0
          }
        }
      },
      "cell_type": "code",
      "source": [
        "import tensorflow as tf\n",
        "import numpy as np\n",
        "import math\n",
        "import timeit\n",
        "import matplotlib.pyplot as plt\n",
        "%matplotlib inline"
      ],
      "execution_count": 0,
      "outputs": []
    },
    {
      "metadata": {
        "id": "e8NXtSg5WZBv",
        "colab_type": "code",
        "colab": {
          "autoexec": {
            "startup": false,
            "wait_interval": 0
          },
          "output_extras": [
            {
              "item_id": 1
            }
          ],
          "base_uri": "https://localhost:8080/",
          "height": 119
        },
        "outputId": "01c9f9df-b122-4ca2-9460-9ea187ab0ce8",
        "executionInfo": {
          "status": "ok",
          "timestamp": 1518783464619,
          "user_tz": -480,
          "elapsed": 4687,
          "user": {
            "displayName": "Yanran Wu",
            "photoUrl": "https://lh3.googleusercontent.com/a/default-user=s128",
            "userId": "106541725246409677955"
          }
        }
      },
      "cell_type": "code",
      "source": [
        "from cs231n.data_utils import load_CIFAR10\n",
        "\n",
        "def get_CIFAR10_data(num_training=49000, num_validation=1000, num_test=10000):\n",
        "    \"\"\"\n",
        "    Load the CIFAR-10 dataset from disk and perform preprocessing to prepare\n",
        "    it for the two-layer neural net classifier. These are the same steps as\n",
        "    we used for the SVM, but condensed to a single function.  \n",
        "    \"\"\"\n",
        "    # Load the raw CIFAR-10 data\n",
        "    cifar10_dir = 'cs231n/datasets/cifar-10-batches-py'\n",
        "    X_train, y_train, X_test, y_test = load_CIFAR10(cifar10_dir)\n",
        "\n",
        "    # Subsample the data\n",
        "    mask = range(num_training, num_training + num_validation)\n",
        "    X_val = X_train[mask]\n",
        "    y_val = y_train[mask]\n",
        "    mask = range(num_training)\n",
        "    X_train = X_train[mask]\n",
        "    y_train = y_train[mask]\n",
        "    mask = range(num_test)\n",
        "    X_test = X_test[mask]\n",
        "    y_test = y_test[mask]\n",
        "\n",
        "    # Normalize the data: subtract the mean image\n",
        "    mean_image = np.mean(X_train, axis=0)\n",
        "    X_train -= mean_image\n",
        "    X_val -= mean_image\n",
        "    X_test -= mean_image\n",
        "\n",
        "    return X_train, y_train, X_val, y_val, X_test, y_test\n",
        "\n",
        "\n",
        "# Invoke the above function to get our data.\n",
        "X_train, y_train, X_val, y_val, X_test, y_test = get_CIFAR10_data()\n",
        "print('Train data shape: ', X_train.shape)\n",
        "print('Train labels shape: ', y_train.shape)\n",
        "print('Validation data shape: ', X_val.shape)\n",
        "print('Validation labels shape: ', y_val.shape)\n",
        "print('Test data shape: ', X_test.shape)\n",
        "print('Test labels shape: ', y_test.shape)"
      ],
      "execution_count": 10,
      "outputs": [
        {
          "output_type": "stream",
          "text": [
            "Train data shape:  (49000, 32, 32, 3)\n",
            "Train labels shape:  (49000,)\n",
            "Validation data shape:  (1000, 32, 32, 3)\n",
            "Validation labels shape:  (1000,)\n",
            "Test data shape:  (10000, 32, 32, 3)\n",
            "Test labels shape:  (10000,)\n"
          ],
          "name": "stdout"
        }
      ]
    },
    {
      "metadata": {
        "id": "3DROXAIVWZBy",
        "colab_type": "text"
      },
      "cell_type": "markdown",
      "source": [
        "## Example Model\n",
        "\n",
        "### Some useful utilities\n",
        "\n",
        ". Remember that our image data is initially N x H x W x C, where:\n",
        "* N is the number of datapoints\n",
        "* H is the height of each image in pixels\n",
        "* W is the height of each image in pixels\n",
        "* C is the number of channels (usually 3: R, G, B)\n",
        "\n",
        "This is the right way to represent the data when we are doing something like a 2D convolution, which needs spatial understanding of where the pixels are relative to each other. When we input image data into fully connected affine layers, however, we want each data example to be represented by a single vector -- it's no longer useful to segregate the different channels, rows, and columns of the data."
      ]
    },
    {
      "metadata": {
        "id": "7zyiPR43WZBy",
        "colab_type": "text"
      },
      "cell_type": "markdown",
      "source": [
        "### The example model itself\n",
        "\n",
        "The first step to training your own model is defining its architecture.\n",
        "\n",
        "Here's an example of a convolutional neural network defined in TensorFlow -- try to understand what each line is doing, remembering that each layer is composed upon the previous layer. We haven't trained anything yet - that'll come next - for now, we want you to understand how everything gets set up. \n",
        "\n",
        "In that example, you see 2D convolutional layers (Conv2d), ReLU activations, and fully-connected layers (Linear). You also see the Hinge loss function, and the Adam optimizer being used. \n",
        "\n",
        "Make sure you understand why the parameters of the Linear layer are 5408 and 10.\n",
        "\n",
        "### TensorFlow Details\n",
        "In TensorFlow, much like in our previous notebooks, we'll first specifically initialize our variables, and then our network model."
      ]
    },
    {
      "metadata": {
        "id": "zk6fLfw0WZBz",
        "colab_type": "code",
        "colab": {
          "autoexec": {
            "startup": false,
            "wait_interval": 0
          }
        }
      },
      "cell_type": "code",
      "source": [
        "# clear old variables\n",
        "tf.reset_default_graph()\n",
        "\n",
        "# setup input (e.g. the data that changes every batch)\n",
        "# The first dim is None, and gets sets automatically based on batch size fed in\n",
        "X = tf.placeholder(tf.float32, [None, 32, 32, 3])\n",
        "y = tf.placeholder(tf.int64, [None])\n",
        "is_training = tf.placeholder(tf.bool)\n",
        "\n",
        "def simple_model(X,y):\n",
        "    # define our weights (e.g. init_two_layer_convnet)\n",
        "    \n",
        "    # setup variables\n",
        "    Wconv1 = tf.get_variable(\"Wconv1\", shape=[7, 7, 3, 32])\n",
        "    bconv1 = tf.get_variable(\"bconv1\", shape=[32])\n",
        "    W1 = tf.get_variable(\"W1\", shape=[5408, 10])\n",
        "    b1 = tf.get_variable(\"b1\", shape=[10])\n",
        "\n",
        "    # define our graph (e.g. two_layer_convnet)\n",
        "    a1 = tf.nn.conv2d(X, Wconv1, strides=[1,2,2,1], padding='VALID') + bconv1\n",
        "    h1 = tf.nn.relu(a1)\n",
        "    h1_flat = tf.reshape(h1,[-1,5408])\n",
        "    y_out = tf.matmul(h1_flat,W1) + b1\n",
        "    return y_out\n",
        "\n",
        "y_out = simple_model(X,y)\n",
        "\n",
        "# define our loss\n",
        "total_loss = tf.losses.hinge_loss(tf.one_hot(y,10),logits=y_out)\n",
        "mean_loss = tf.reduce_mean(total_loss)\n",
        "\n",
        "# define our optimizer\n",
        "optimizer = tf.train.AdamOptimizer(5e-4) # select optimizer and set learning rate\n",
        "train_step = optimizer.minimize(mean_loss)"
      ],
      "execution_count": 0,
      "outputs": []
    },
    {
      "metadata": {
        "id": "wGjuhi-jWZB3",
        "colab_type": "text"
      },
      "cell_type": "markdown",
      "source": [
        "TensorFlow supports many other layer types, loss functions, and optimizers - you will experiment with these next. Here's the official API documentation for these (if any of the parameters used above were unclear, this resource will also be helpful). \n",
        "\n",
        "* Layers, Activations, Loss functions : https://www.tensorflow.org/api_guides/python/nn\n",
        "* Optimizers: https://www.tensorflow.org/api_guides/python/train#Optimizers\n",
        "* BatchNorm: https://www.tensorflow.org/api_docs/python/tf/layers/batch_normalization"
      ]
    },
    {
      "metadata": {
        "id": "LVPGQrLaWZB5",
        "colab_type": "text"
      },
      "cell_type": "markdown",
      "source": [
        "### Training the model on one epoch\n",
        "While we have defined a graph of operations above, in order to execute TensorFlow Graphs, by feeding them input data and computing the results, we first need to create a `tf.Session` object. A session encapsulates the control and state of the TensorFlow runtime. For more information, see the TensorFlow [Getting started](https://www.tensorflow.org/get_started/get_started) guide.\n",
        "\n",
        "Optionally we can also specify a device context such as `/cpu:0` or `/gpu:0`. For documentation on this behavior see [this TensorFlow guide](https://www.tensorflow.org/tutorials/using_gpu)\n",
        "\n",
        "You should see a validation loss of around 0.4 to 0.6 and an accuracy of 0.30 to 0.35 below"
      ]
    },
    {
      "metadata": {
        "id": "iqXVwu0_WZB7",
        "colab_type": "code",
        "colab": {
          "autoexec": {
            "startup": false,
            "wait_interval": 0
          },
          "output_extras": [
            {
              "item_id": 9
            },
            {
              "item_id": 10
            },
            {
              "item_id": 12
            }
          ],
          "base_uri": "https://localhost:8080/",
          "height": 498
        },
        "outputId": "bbef646f-3e0b-4341-9732-2a51add9ff10",
        "executionInfo": {
          "status": "ok",
          "timestamp": 1518783477166,
          "user_tz": -480,
          "elapsed": 5087,
          "user": {
            "displayName": "Yanran Wu",
            "photoUrl": "https://lh3.googleusercontent.com/a/default-user=s128",
            "userId": "106541725246409677955"
          }
        }
      },
      "cell_type": "code",
      "source": [
        "def run_model(session, predict, loss_val, Xd, yd,\n",
        "              epochs=1, batch_size=64, print_every=100,\n",
        "              training=None, plot_losses=False):\n",
        "    # have tensorflow compute accuracy\n",
        "    correct_prediction = tf.equal(tf.argmax(predict,1), y)\n",
        "    accuracy = tf.reduce_mean(tf.cast(correct_prediction, tf.float32))\n",
        "    \n",
        "    # shuffle indicies\n",
        "    train_indicies = np.arange(Xd.shape[0])\n",
        "    np.random.shuffle(train_indicies)\n",
        "\n",
        "    training_now = training is not None\n",
        "    \n",
        "    # setting up variables we want to compute (and optimizing)\n",
        "    # if we have a training function, add that to things we compute\n",
        "    variables = [mean_loss,correct_prediction,accuracy]\n",
        "    if training_now:\n",
        "        variables[-1] = training\n",
        "    \n",
        "    # counter \n",
        "    iter_cnt = 0\n",
        "    for e in range(epochs):\n",
        "        # keep track of losses and accuracy\n",
        "        correct = 0\n",
        "        losses = []\n",
        "        # make sure we iterate over the dataset once\n",
        "        for i in range(int(math.ceil(Xd.shape[0]/batch_size))):\n",
        "            # generate indicies for the batch\n",
        "            start_idx = (i*batch_size)%Xd.shape[0]\n",
        "            idx = train_indicies[start_idx:start_idx+batch_size]\n",
        "            \n",
        "            # create a feed dictionary for this batch\n",
        "            feed_dict = {X: Xd[idx,:],\n",
        "                         y: yd[idx],\n",
        "                         is_training: training_now }\n",
        "            # get batch size\n",
        "            actual_batch_size = yd[idx].shape[0]\n",
        "            \n",
        "            # have tensorflow compute loss and correct predictions\n",
        "            # and (if given) perform a training step\n",
        "            loss, corr, _ = session.run(variables,feed_dict=feed_dict)\n",
        "            \n",
        "            # aggregate performance stats\n",
        "            losses.append(loss*actual_batch_size)\n",
        "            correct += np.sum(corr)\n",
        "            \n",
        "            # print every now and then\n",
        "            if training_now and (iter_cnt % print_every) == 0:\n",
        "                print(\"Iteration {0}: with minibatch training loss = {1:.3g} and accuracy of {2:.2g}\"\\\n",
        "                      .format(iter_cnt,loss,np.sum(corr)/actual_batch_size))\n",
        "            iter_cnt += 1\n",
        "        total_correct = correct/Xd.shape[0]\n",
        "        total_loss = np.sum(losses)/Xd.shape[0]\n",
        "        print(\"Epoch {2}, Overall loss = {0:.3g} and accuracy of {1:.3g}\"\\\n",
        "              .format(total_loss,total_correct,e+1))\n",
        "        if plot_losses:\n",
        "            plt.plot(losses)\n",
        "            plt.grid(True)\n",
        "            plt.title('Epoch {} Loss'.format(e+1))\n",
        "            plt.xlabel('minibatch number')\n",
        "            plt.ylabel('minibatch loss')\n",
        "            plt.show()\n",
        "    return total_loss,total_correct\n",
        "\n",
        "with tf.Session() as sess:\n",
        "    with tf.device(\"/cpu:0\"): #\"/cpu:0\" or \"/gpu:0\" \n",
        "        sess.run(tf.global_variables_initializer())\n",
        "        print('Training')\n",
        "        run_model(sess,y_out,mean_loss,X_train,y_train,1,64,100,train_step,True)\n",
        "        print('Validation')\n",
        "        run_model(sess,y_out,mean_loss,X_val,y_val,1,64)"
      ],
      "execution_count": 12,
      "outputs": [
        {
          "output_type": "stream",
          "text": [
            "Training\n",
            "Iteration 0: with minibatch training loss = 7.55 and accuracy of 0.12\n",
            "Iteration 100: with minibatch training loss = 0.882 and accuracy of 0.36\n",
            "Iteration 200: with minibatch training loss = 0.73 and accuracy of 0.28\n",
            "Iteration 300: with minibatch training loss = 0.668 and accuracy of 0.33\n",
            "Iteration 400: with minibatch training loss = 0.486 and accuracy of 0.41\n",
            "Iteration 500: with minibatch training loss = 0.501 and accuracy of 0.28\n",
            "Iteration 600: with minibatch training loss = 0.467 and accuracy of 0.36\n",
            "Iteration 700: with minibatch training loss = 0.472 and accuracy of 0.38\n",
            "Epoch 1, Overall loss = 0.728 and accuracy of 0.31\n"
          ],
          "name": "stdout"
        },
        {
          "output_type": "display_data",
          "data": {
            "image/png": "[encoded data removed]",
            "text/plain": [
              "<matplotlib.figure.Figure at 0x7f3c217168d0>"
            ]
          },
          "metadata": {
            "tags": []
          }
        },
        {
          "output_type": "stream",
          "text": [
            "Validation\n",
            "Epoch 1, Overall loss = 0.442 and accuracy of 0.349\n"
          ],
          "name": "stdout"
        }
      ]
    },
    {
      "metadata": {
        "id": "bpOKQUVBWZB-",
        "colab_type": "text"
      },
      "cell_type": "markdown",
      "source": [
        "## Training a specific model\n",
        "\n",
        "In this section, we're going to specify a model for you to construct. The goal here isn't to get good performance (that'll be next), but instead to get comfortable with understanding the TensorFlow documentation and configuring your own model. \n",
        "\n",
        "Using the code provided above as guidance, and using the following TensorFlow documentation, specify a model with the following architecture:\n",
        "\n",
        "* 7x7 Convolutional Layer with 32 filters and stride of 1\n",
        "* ReLU Activation Layer\n",
        "* Spatial Batch Normalization Layer (trainable parameters, with scale and centering)\n",
        "* 2x2 Max Pooling layer with a stride of 2\n",
        "* Affine layer with 1024 output units\n",
        "* ReLU Activation Layer\n",
        "* Affine layer from 1024 input units to 10 outputs\n",
        "\n"
      ]
    },
    {
      "metadata": {
        "id": "_GSI17YaWZB_",
        "colab_type": "code",
        "colab": {
          "autoexec": {
            "startup": false,
            "wait_interval": 0
          }
        }
      },
      "cell_type": "code",
      "source": [
        "# clear old variables\n",
        "tf.reset_default_graph()\n",
        "\n",
        "# define our input (e.g. the data that changes every batch)\n",
        "# The first dim is None, and gets sets automatically based on batch size fed in\n",
        "X = tf.placeholder(tf.float32, [None, 32, 32, 3])\n",
        "y = tf.placeholder(tf.int64, [None])\n",
        "is_training = tf.placeholder(tf.bool)\n",
        "# setup variables\n",
        "Wconv1 = tf.get_variable(\"Wconv1\", shape=[7, 7, 3, 32])\n",
        "bconv1 = tf.get_variable(\"bconv1\", shape=[32])\n",
        "W1 = tf.get_variable(\"W1\", shape=[8192, 1024])\n",
        "b1 = tf.get_variable(\"b1\", shape=[1024])\n",
        "W2 = tf.get_variable(\"W2\", shape=[1024, 10])\n",
        "b2 = tf.get_variable(\"b2\", shape=[10])\n",
        "# define model\n",
        "def complex_model(X,y,is_training):\n",
        "    a1 = tf.nn.conv2d(X, Wconv1, strides=[1,1,1,1], padding='SAME') + bconv1\n",
        "    h_batch = tf.layers.batch_normalization(a1, center=True, scale=True,  training=is_training)\n",
        "    h1 = tf.nn.relu(h_batch)\n",
        "    h_pool = tf.nn.max_pool(h1, ksize=[1, 2, 2, 1], strides=[1, 2, 2, 1], padding='SAME')\n",
        "    conv_flat = tf.reshape(h_pool,[-1,8192])\n",
        "    h_affine = tf.matmul(conv_flat,W1) + b1\n",
        "    h_batch2 = tf.layers.batch_normalization(h_affine, center=True, scale=True,  training=is_training)\n",
        "    h_relu = tf.nn.relu(h_batch2)\n",
        "    y_out = tf.matmul(h_relu,W2) + b2\n",
        "    return y_out\n",
        "\n",
        "y_out = complex_model(X,y,is_training)"
      ],
      "execution_count": 0,
      "outputs": []
    },
    {
      "metadata": {
        "id": "nWle1gaRWZCC",
        "colab_type": "text"
      },
      "cell_type": "markdown",
      "source": [
        "To make sure you're doing the right thing, use the following tool to check the dimensionality of your output (it should be 64 x 10, since our batches have size 64 and the output of the final affine layer should be 10, corresponding to our 10 classes):"
      ]
    },
    {
      "metadata": {
        "id": "hVymyNO-WZCC",
        "colab_type": "code",
        "colab": {
          "autoexec": {
            "startup": false,
            "wait_interval": 0
          },
          "output_extras": [
            {
              "item_id": 1
            }
          ],
          "base_uri": "https://localhost:8080/",
          "height": 68
        },
        "outputId": "d885889f-2a2f-45d3-a7ed-3f4fffb9c0e8",
        "executionInfo": {
          "status": "ok",
          "timestamp": 1518783494732,
          "user_tz": -480,
          "elapsed": 2612,
          "user": {
            "displayName": "Yanran Wu",
            "photoUrl": "https://lh3.googleusercontent.com/a/default-user=s128",
            "userId": "106541725246409677955"
          }
        }
      },
      "cell_type": "code",
      "source": [
        "# Now we're going to feed a random batch into the model \n",
        "# and make sure the output is the right size\n",
        "x = np.random.randn(64, 32, 32,3)\n",
        "with tf.Session() as sess:\n",
        "    with tf.device(\"/gpu:0\"): #\"/cpu:0\" or \"/gpu:0\"\n",
        "        tf.global_variables_initializer().run()\n",
        "\n",
        "        ans = sess.run(y_out,feed_dict={X:x,is_training:True})\n",
        "        %timeit sess.run(y_out,feed_dict={X:x,is_training:True})\n",
        "        print(ans.shape)\n",
        "        print(np.array_equal(ans.shape, np.array([64, 10])))"
      ],
      "execution_count": 14,
      "outputs": [
        {
          "output_type": "stream",
          "text": [
            "100 loops, best of 3: 3.86 ms per loop\n",
            "(64, 10)\n",
            "True\n"
          ],
          "name": "stdout"
        }
      ]
    },
    {
      "metadata": {
        "id": "Hm2SO5nEWZCG",
        "colab_type": "text"
      },
      "cell_type": "markdown",
      "source": [
        "You should see the following from the run above \n",
        "\n",
        "`(64, 10)`\n",
        "\n",
        "`True`"
      ]
    },
    {
      "metadata": {
        "id": "m-K0B491iHuk",
        "colab_type": "code",
        "colab": {
          "autoexec": {
            "startup": false,
            "wait_interval": 0
          },
          "output_extras": [
            {
              "item_id": 1
            }
          ],
          "base_uri": "https://localhost:8080/",
          "height": 748
        },
        "outputId": "c6e9e60c-d4eb-4ac0-9bcc-b01c559c9746",
        "executionInfo": {
          "status": "ok",
          "timestamp": 1518783499518,
          "user_tz": -480,
          "elapsed": 848,
          "user": {
            "displayName": "Yanran Wu",
            "photoUrl": "https://lh3.googleusercontent.com/a/default-user=s128",
            "userId": "106541725246409677955"
          }
        }
      },
      "cell_type": "code",
      "source": [
        "!cat /proc/meminfo"
      ],
      "execution_count": 15,
      "outputs": [
        {
          "output_type": "stream",
          "text": [
            "MemTotal:       13341960 kB\r\n",
            "MemFree:         4322640 kB\r\n",
            "MemAvailable:    9493496 kB\r\n",
            "Buffers:          635528 kB\r\n",
            "Cached:          4188620 kB\r\n",
            "SwapCached:            0 kB\r\n",
            "Active:          5543296 kB\r\n",
            "Inactive:        2383812 kB\r\n",
            "Active(anon):    3272188 kB\r\n",
            "Inactive(anon):   115504 kB\r\n",
            "Active(file):    2271108 kB\r\n",
            "Inactive(file):  2268308 kB\r\n",
            "Unevictable:           0 kB\r\n",
            "Mlocked:               0 kB\r\n",
            "SwapTotal:             0 kB\r\n",
            "SwapFree:              0 kB\r\n",
            "Dirty:              1216 kB\r\n",
            "Writeback:             0 kB\r\n",
            "AnonPages:       3102992 kB\r\n",
            "Mapped:           478960 kB\r\n",
            "Shmem:            284740 kB\r\n",
            "Slab:             916064 kB\r\n",
            "SReclaimable:     884856 kB\r\n",
            "SUnreclaim:        31208 kB\r\n",
            "KernelStack:        3488 kB\r\n",
            "PageTables:        12348 kB\r\n",
            "NFS_Unstable:          0 kB\r\n",
            "Bounce:                0 kB\r\n",
            "WritebackTmp:          0 kB\r\n",
            "CommitLimit:     6670980 kB\r\n",
            "Committed_AS:    4684172 kB\r\n",
            "VmallocTotal:   34359738367 kB\r\n",
            "VmallocUsed:           0 kB\r\n",
            "VmallocChunk:          0 kB\r\n",
            "AnonHugePages:      2048 kB\r\n",
            "HugePages_Total:       0\r\n",
            "HugePages_Free:        0\r\n",
            "HugePages_Rsvd:        0\r\n",
            "HugePages_Surp:        0\r\n",
            "Hugepagesize:       2048 kB\r\n",
            "DirectMap4k:      296908 kB\r\n",
            "DirectMap2M:     9140224 kB\r\n",
            "DirectMap1G:     6291456 kB\r\n"
          ],
          "name": "stdout"
        }
      ]
    },
    {
      "metadata": {
        "id": "T76fZfnNWZCH",
        "colab_type": "text"
      },
      "cell_type": "markdown",
      "source": [
        "### GPU!\n",
        "\n",
        "Now, we're going to try and start the model under the GPU device, the rest of the code stays unchanged and all our variables and operations will be computed using accelerated code paths. However, if there is no GPU, we get a Python exception and have to rebuild our graph. On a dual-core CPU, you might see around 50-80ms/batch running the above, while the Google Cloud GPUs (run below) should be around 2-5ms/batch."
      ]
    },
    {
      "metadata": {
        "id": "xNo7k7PPWZCI",
        "colab_type": "code",
        "colab": {
          "autoexec": {
            "startup": false,
            "wait_interval": 0
          },
          "output_extras": [
            {
              "item_id": 1
            }
          ],
          "base_uri": "https://localhost:8080/",
          "height": 34
        },
        "outputId": "faadf3fd-0340-448c-c20d-49da9f963876",
        "executionInfo": {
          "status": "ok",
          "timestamp": 1518783510957,
          "user_tz": -480,
          "elapsed": 2577,
          "user": {
            "displayName": "Yanran Wu",
            "photoUrl": "https://lh3.googleusercontent.com/a/default-user=s128",
            "userId": "106541725246409677955"
          }
        }
      },
      "cell_type": "code",
      "source": [
        "try:\n",
        "    with tf.Session() as sess:\n",
        "        with tf.device(\"/gpu:0\") as dev: #\"/cpu:0\" or \"/gpu:0\"\n",
        "            tf.global_variables_initializer().run()\n",
        "\n",
        "            ans = sess.run(y_out,feed_dict={X:x,is_training:True})\n",
        "            %timeit sess.run(y_out,feed_dict={X:x,is_training:True})\n",
        "except tf.errors.InvalidArgumentError:\n",
        "    print(\"no gpu found, please use Google Cloud if you want GPU acceleration\")    \n",
        "    # rebuild the graph\n",
        "    # trying to start a GPU throws an exception \n",
        "    # and also trashes the original graph\n",
        "    tf.reset_default_graph()\n",
        "    X = tf.placeholder(tf.float32, [None, 32, 32, 3])\n",
        "    y = tf.placeholder(tf.int64, [None])\n",
        "    is_training = tf.placeholder(tf.bool)\n",
        "    y_out = complex_model(X,y,is_training)"
      ],
      "execution_count": 16,
      "outputs": [
        {
          "output_type": "stream",
          "text": [
            "100 loops, best of 3: 3.87 ms per loop\n"
          ],
          "name": "stdout"
        }
      ]
    },
    {
      "metadata": {
        "id": "anykSAE0WZCM",
        "colab_type": "text"
      },
      "cell_type": "markdown",
      "source": [
        "You should observe that even a simple forward pass like this is significantly faster on the GPU. So for the rest of the assignment (and when you go train your models in assignment 3 and your project!), you should use GPU devices. However, with TensorFlow, the default device is a GPU if one is available, and a CPU otherwise, so we can skip the device specification from now on."
      ]
    },
    {
      "metadata": {
        "id": "NNDo6aMuWZCN",
        "colab_type": "text"
      },
      "cell_type": "markdown",
      "source": [
        "### Train the model.\n",
        "\n",
        "Now that you've seen how to define a model and do a single forward pass of some data through it, let's  walk through how you'd actually train one whole epoch over your training data (using the complex_model you created provided above).\n",
        "\n",
        "Make sure you understand how each TensorFlow function used below corresponds to what you implemented in your custom neural network implementation.\n",
        "\n",
        "First, set up an **RMSprop optimizer** (using a 1e-3 learning rate) and a **cross-entropy loss** function. See the TensorFlow documentation for more information\n",
        "* Layers, Activations, Loss functions : https://www.tensorflow.org/api_guides/python/nn\n",
        "* Optimizers: https://www.tensorflow.org/api_guides/python/train#Optimizers"
      ]
    },
    {
      "metadata": {
        "id": "I2mGwysYWZCP",
        "colab_type": "code",
        "colab": {
          "autoexec": {
            "startup": false,
            "wait_interval": 0
          },
          "output_extras": [
            {
              "item_id": 1
            }
          ],
          "base_uri": "https://localhost:8080/",
          "height": 173
        },
        "outputId": "fbadaa70-3314-4c4c-9d8f-5c887d9a64aa",
        "executionInfo": {
          "status": "ok",
          "timestamp": 1518783516854,
          "user_tz": -480,
          "elapsed": 1229,
          "user": {
            "displayName": "Yanran Wu",
            "photoUrl": "https://lh3.googleusercontent.com/a/default-user=s128",
            "userId": "106541725246409677955"
          }
        }
      },
      "cell_type": "code",
      "source": [
        "# Inputs\n",
        "#     y_out: is what your model computes\n",
        "#     y: is your TensorFlow variable with label information\n",
        "# Outputs\n",
        "#    mean_loss: a TensorFlow variable (scalar) with numerical loss\n",
        "#    optimizer: a TensorFlow optimizer\n",
        "# This should be ~3 lines of code!\n",
        "mean_loss = tf.reduce_mean(tf.nn.softmax_cross_entropy_with_logits(labels=tf.one_hot(y,10), logits=y_out))\n",
        "optimizer = tf.train.RMSPropOptimizer(learning_rate=0.001)"
      ],
      "execution_count": 17,
      "outputs": [
        {
          "output_type": "stream",
          "text": [
            "WARNING:tensorflow:From <ipython-input-17-b486fcac9f83>:1: softmax_cross_entropy_with_logits (from tensorflow.python.ops.nn_ops) is deprecated and will be removed in a future version.\n",
            "Instructions for updating:\n",
            "\n",
            "Future major versions of TensorFlow will allow gradients to flow\n",
            "into the labels input on backprop by default.\n",
            "\n",
            "See tf.nn.softmax_cross_entropy_with_logits_v2.\n",
            "\n"
          ],
          "name": "stdout"
        }
      ]
    },
    {
      "metadata": {
        "id": "D_VBLrQUWZCT",
        "colab_type": "code",
        "colab": {
          "autoexec": {
            "startup": false,
            "wait_interval": 0
          }
        }
      },
      "cell_type": "code",
      "source": [
        "# batch normalization in tensorflow requires this extra dependency\n",
        "extra_update_ops = tf.get_collection(tf.GraphKeys.UPDATE_OPS)\n",
        "with tf.control_dependencies(extra_update_ops):\n",
        "    train_step = optimizer.minimize(mean_loss)"
      ],
      "execution_count": 0,
      "outputs": []
    },
    {
      "metadata": {
        "id": "IAhrLTVUWZCX",
        "colab_type": "text"
      },
      "cell_type": "markdown",
      "source": [
        "### Train the model\n",
        "Below we'll create a session and train the model over one epoch. You should see a loss of 1.4 to 2.0 and an accuracy of 0.4 to 0.5. There will be some variation due to random seeds and differences in initialization"
      ]
    },
    {
      "metadata": {
        "id": "_zKbr1wkWZCY",
        "colab_type": "code",
        "colab": {
          "autoexec": {
            "startup": false,
            "wait_interval": 0
          },
          "output_extras": [
            {
              "item_id": 9
            },
            {
              "item_id": 10
            }
          ],
          "base_uri": "https://localhost:8080/",
          "height": 204
        },
        "outputId": "79c68172-fa64-4532-9245-da2b41cb4f57",
        "executionInfo": {
          "status": "ok",
          "timestamp": 1518783542915,
          "user_tz": -480,
          "elapsed": 11342,
          "user": {
            "displayName": "Yanran Wu",
            "photoUrl": "https://lh3.googleusercontent.com/a/default-user=s128",
            "userId": "106541725246409677955"
          }
        }
      },
      "cell_type": "code",
      "source": [
        "sess = tf.Session()\n",
        "\n",
        "sess.run(tf.global_variables_initializer())\n",
        "print('Training')\n",
        "run_model(sess,y_out,mean_loss,X_train,y_train,1,64,100,train_step)"
      ],
      "execution_count": 19,
      "outputs": [
        {
          "output_type": "stream",
          "text": [
            "Training\n",
            "Iteration 0: with minibatch training loss = 2.95 and accuracy of 0.078\n",
            "Iteration 100: with minibatch training loss = 2.04 and accuracy of 0.39\n",
            "Iteration 200: with minibatch training loss = 1.67 and accuracy of 0.3\n",
            "Iteration 300: with minibatch training loss = 1.85 and accuracy of 0.33\n",
            "Iteration 400: with minibatch training loss = 1.44 and accuracy of 0.48\n",
            "Iteration 500: with minibatch training loss = 1.07 and accuracy of 0.59\n",
            "Iteration 600: with minibatch training loss = 1.4 and accuracy of 0.47\n",
            "Iteration 700: with minibatch training loss = 1.04 and accuracy of 0.61\n",
            "Epoch 1, Overall loss = 1.49 and accuracy of 0.481\n"
          ],
          "name": "stdout"
        },
        {
          "output_type": "execute_result",
          "data": {
            "text/plain": [
              "(1.4900209699163631, 0.4806938775510204)"
            ]
          },
          "metadata": {
            "tags": []
          },
          "execution_count": 19
        }
      ]
    },
    {
      "metadata": {
        "id": "iGPwxi3fWZCa",
        "colab_type": "text"
      },
      "cell_type": "markdown",
      "source": [
        "### Check the accuracy of the model.\n",
        "\n",
        "Let's see the train and test code in action -- feel free to use these methods when evaluating the models you develop below. You should see a loss of 1.3 to 2.0 with an accuracy of 0.45 to 0.55."
      ]
    },
    {
      "metadata": {
        "id": "MDbi5aQBWZCc",
        "colab_type": "code",
        "colab": {
          "autoexec": {
            "startup": false,
            "wait_interval": 0
          },
          "output_extras": [
            {
              "item_id": 1
            },
            {
              "item_id": 2
            }
          ],
          "base_uri": "https://localhost:8080/",
          "height": 68
        },
        "outputId": "940b2787-3f55-493b-94e3-f5963206be4a",
        "executionInfo": {
          "status": "ok",
          "timestamp": 1518783549749,
          "user_tz": -480,
          "elapsed": 1092,
          "user": {
            "displayName": "Yanran Wu",
            "photoUrl": "https://lh3.googleusercontent.com/a/default-user=s128",
            "userId": "106541725246409677955"
          }
        }
      },
      "cell_type": "code",
      "source": [
        "print('Validation')\n",
        "run_model(sess,y_out,mean_loss,X_val,y_val,1,64)"
      ],
      "execution_count": 20,
      "outputs": [
        {
          "output_type": "stream",
          "text": [
            "Validation\n",
            "Epoch 1, Overall loss = 1.35 and accuracy of 0.559\n"
          ],
          "name": "stdout"
        },
        {
          "output_type": "execute_result",
          "data": {
            "text/plain": [
              "(1.3506374187469483, 0.559)"
            ]
          },
          "metadata": {
            "tags": []
          },
          "execution_count": 20
        }
      ]
    },
    {
      "metadata": {
        "id": "qWwHxhJAWZCe",
        "colab_type": "text"
      },
      "cell_type": "markdown",
      "source": [
        "## Train a _great_ model on CIFAR-10!\n",
        "\n",
        "Now it's your job to experiment with architectures, hyperparameters, loss functions, and optimizers to train a model that achieves ** >= 70% accuracy on the validation set** of CIFAR-10. You can use the `run_model` function from above."
      ]
    },
    {
      "metadata": {
        "id": "J6-0ttGUWZCf",
        "colab_type": "text"
      },
      "cell_type": "markdown",
      "source": [
        "### Things you should try:\n",
        "- **Filter size**: Above we used 7x7; this makes pretty pictures but smaller filters may be more efficient\n",
        "- **Number of filters**: Above we used 32 filters. Do more or fewer do better?\n",
        "- **Pooling vs Strided Convolution**: Do you use max pooling or just stride convolutions?\n",
        "- **Batch normalization**: Try adding spatial batch normalization after convolution layers and vanilla batch normalization after affine layers. Do your networks train faster?\n",
        "- **Network architecture**: The network above has two layers of trainable parameters. Can you do better with a deep network? Good architectures to try include:\n",
        "    - [conv-relu-pool]xN -> [affine]xM -> [softmax or SVM]\n",
        "    - [conv-relu-conv-relu-pool]xN -> [affine]xM -> [softmax or SVM]\n",
        "    - [batchnorm-relu-conv]xN -> [affine]xM -> [softmax or SVM]\n",
        "- **Use TensorFlow Scope**: Use TensorFlow scope and/or [tf.layers](https://www.tensorflow.org/api_docs/python/tf/layers) to make it easier to write deeper networks. See [this tutorial](https://www.tensorflow.org/tutorials/layers) for how to use `tf.layers`. \n",
        "- **Use Learning Rate Decay**: [As the notes point out](http://cs231n.github.io/neural-networks-3/#anneal), decaying the learning rate might help the model converge. Feel free to decay every epoch, when loss doesn't change over an entire epoch, or any other heuristic you find appropriate. See the [Tensorflow documentation](https://www.tensorflow.org/versions/master/api_guides/python/train#Decaying_the_learning_rate) for learning rate decay.\n",
        "- **Global Average Pooling**: Instead of flattening and then having multiple affine layers, perform convolutions until your image gets small (7x7 or so) and then perform an average pooling operation to get to a 1x1 image picture (1, 1 , Filter#), which is then reshaped into a (Filter#) vector. This is used in [Google's Inception Network](https://arxiv.org/abs/1512.00567) (See Table 1 for their architecture).\n",
        "- **Regularization**: Add l2 weight regularization, or perhaps use [Dropout as in the TensorFlow MNIST tutorial](https://www.tensorflow.org/get_started/mnist/pros)\n",
        "\n",
        "### Tips for training\n",
        "For each network architecture that you try, you should tune the learning rate and regularization strength. When doing this there are a couple important things to keep in mind:\n",
        "\n",
        "- If the parameters are working well, you should see improvement within a few hundred iterations\n",
        "- Remember the coarse-to-fine approach for hyperparameter tuning: start by testing a large range of hyperparameters for just a few training iterations to find the combinations of parameters that are working at all.\n",
        "- Once you have found some sets of parameters that seem to work, search more finely around these parameters. You may need to train for more epochs.\n",
        "- You should use the validation set for hyperparameter search, and we'll save the test set for evaluating your architecture on the best parameters as selected by the validation set.\n",
        "\n",
        "### Going above and beyond\n",
        "If you are feeling adventurous there are many other features you can implement to try and improve your performance. You are **not required** to implement any of these; however they would be good things to try for extra credit.\n",
        "\n",
        "- Alternative update steps: For the assignment we implemented SGD+momentum, RMSprop, and Adam; you could try alternatives like AdaGrad or AdaDelta.\n",
        "- Alternative activation functions such as leaky ReLU, parametric ReLU, ELU, or MaxOut.\n",
        "- Model ensembles\n",
        "- Data augmentation\n",
        "- New Architectures\n",
        "  - [ResNets](https://arxiv.org/abs/1512.03385) where the input from the previous layer is added to the output.\n",
        "  - [DenseNets](https://arxiv.org/abs/1608.06993) where inputs into previous layers are concatenated together.\n",
        "  - [This blog has an in-depth overview](https://chatbotslife.com/resnets-highwaynets-and-densenets-oh-my-9bb15918ee32)\n",
        "\n",
        "If you do decide to implement something extra, clearly describe it in the \"Extra Credit Description\" cell below.\n",
        "\n",
        "### What we expect\n",
        "At the very least, you should be able to train a ConvNet that gets at **>= 70% accuracy on the validation set**. This is just a lower bound - if you are careful it should be possible to get accuracies much higher than that! Extra credit points will be awarded for particularly high-scoring models or unique approaches.\n",
        "\n",
        "You should use the space below to experiment and train your network. The final cell in this notebook should contain the training and validation set accuracies for your final trained network.\n",
        "\n",
        "Have fun and happy training!"
      ]
    },
    {
      "metadata": {
        "id": "e7v1UzKIkpUo",
        "colab_type": "code",
        "colab": {
          "autoexec": {
            "startup": false,
            "wait_interval": 0
          },
          "output_extras": [
            {
              "item_id": 1
            }
          ],
          "base_uri": "https://localhost:8080/",
          "height": 34
        },
        "outputId": "ae3c926c-a1b2-4a56-da80-001582280d39",
        "executionInfo": {
          "status": "ok",
          "timestamp": 1518783875027,
          "user_tz": -480,
          "elapsed": 876,
          "user": {
            "displayName": "Yanran Wu",
            "photoUrl": "https://lh3.googleusercontent.com/a/default-user=s128",
            "userId": "106541725246409677955"
          }
        }
      },
      "cell_type": "code",
      "source": [
        "tf.test.gpu_device_name()"
      ],
      "execution_count": 23,
      "outputs": [
        {
          "output_type": "execute_result",
          "data": {
            "text/plain": [
              "'/device:GPU:0'"
            ]
          },
          "metadata": {
            "tags": []
          },
          "execution_count": 23
        }
      ]
    },
    {
      "metadata": {
        "id": "zGcjkcW-WZCg",
        "colab_type": "code",
        "colab": {
          "autoexec": {
            "startup": false,
            "wait_interval": 0
          }
        }
      },
      "cell_type": "code",
      "source": [
        "# Feel free to play with this cell\n",
        "\n",
        "def my_model(X,y,is_training):\n",
        "    # Conv-Relu-BN\n",
        "    conv1act = tf.layers.conv2d(inputs=X, filters=32, padding='same', kernel_size=3, strides=1, activation=tf.nn.relu)\n",
        "    bn1act = tf.layers.batch_normalization(inputs=conv1act, training=is_training)\n",
        "    # Conv-Relu-BN\n",
        "    conv2act = tf.layers.conv2d(inputs=bn1act, filters=64, padding='same', kernel_size=3, strides=1, activation=tf.nn.relu)\n",
        "    bn2act = tf.layers.batch_normalization(inputs=conv2act, training=is_training)\n",
        "    # Conv-Relu-BN\n",
        "    conv3act = tf.layers.conv2d(inputs=bn2act, filters=32, padding='same', kernel_size=3, strides=1, activation=tf.nn.relu)\n",
        "    bn3act = tf.layers.batch_normalization(inputs=conv3act, training=is_training)\n",
        "    dropout1 = tf.layers.dropout(inputs = bn3act, rate = 0.1)\n",
        "    # Conv-Relu-BN\n",
        "    conv4act = tf.layers.conv2d(inputs=dropout1, filters=64, padding='same', kernel_size=3, strides=1, activation=tf.nn.relu)\n",
        "    bn4act = tf.layers.batch_normalization(inputs=conv4act, training=is_training)\n",
        "    dropout2 = tf.layers.dropout(inputs = bn4act, rate = 0.1)\n",
        "    # Maxpool\n",
        "    maxpool1act = tf.layers.max_pooling2d(inputs=bn4act, pool_size=2, strides=2)\n",
        "    # Flatten\n",
        "    flatten1 = tf.reshape(maxpool1act,[-1,16384])\n",
        "    # FC-Relu-BN\n",
        "    dropout3 = tf.layers.dropout(inputs = flatten1, rate = 0.1)\n",
        "    fc1 = tf.layers.dense(inputs=dropout3, units=1024 , activation=tf.nn.relu)\n",
        "    bn3act = tf.layers.batch_normalization(inputs=fc1, training=is_training)\n",
        "    \n",
        "    # Output FC \n",
        "    y_out = tf.layers.dense(inputs=bn3act, units=10, activation=None)\n",
        "    \n",
        "    return y_out\n",
        "\n",
        "tf.reset_default_graph()\n",
        "\n",
        "X = tf.placeholder(tf.float32, [None, 32, 32, 3])\n",
        "y = tf.placeholder(tf.int64, [None])\n",
        "is_training = tf.placeholder(tf.bool)\n",
        "\n",
        "y_out = my_model(X,y,is_training)\n",
        "mean_loss = tf.losses.softmax_cross_entropy(logits=y_out, onehot_labels=tf.one_hot(y,10))\n",
        "optimizer = tf.train.AdamOptimizer(learning_rate=0.001)\n",
        "\n",
        "\n",
        "pass\n",
        "\n",
        "# batch normalization in tensorflow requires this extra dependency\n",
        "extra_update_ops = tf.get_collection(tf.GraphKeys.UPDATE_OPS)\n",
        "with tf.control_dependencies(extra_update_ops):\n",
        "    train_step = optimizer.minimize(mean_loss)"
      ],
      "execution_count": 0,
      "outputs": []
    },
    {
      "metadata": {
        "id": "p_KL1wgPWZCj",
        "colab_type": "code",
        "colab": {
          "autoexec": {
            "startup": false,
            "wait_interval": 0
          },
          "output_extras": [
            {
              "item_id": 10
            },
            {
              "item_id": 11
            },
            {
              "item_id": 20
            },
            {
              "item_id": 21
            },
            {
              "item_id": 29
            },
            {
              "item_id": 30
            },
            {
              "item_id": 39
            },
            {
              "item_id": 40
            },
            {
              "item_id": 49
            },
            {
              "item_id": 50
            },
            {
              "item_id": 58
            },
            {
              "item_id": 59
            },
            {
              "item_id": 60
            },
            {
              "item_id": 61
            }
          ],
          "base_uri": "https://localhost:8080/",
          "height": 2631
        },
        "outputId": "ac37d7f9-4286-45a0-c9ec-ecc7582d32cc",
        "executionInfo": {
          "status": "ok",
          "timestamp": 1518786207890,
          "user_tz": -480,
          "elapsed": 236481,
          "user": {
            "displayName": "Yanran Wu",
            "photoUrl": "https://lh3.googleusercontent.com/a/default-user=s128",
            "userId": "106541725246409677955"
          }
        }
      },
      "cell_type": "code",
      "source": [
        "# Feel free to play with this cell\n",
        "# This default code creates a session\n",
        "# and trains your model for 10 epochs\n",
        "# then prints the validation set accuracy\n",
        "sess = tf.Session()\n",
        "\n",
        "sess.run(tf.global_variables_initializer())\n",
        "print('Training')\n",
        "run_model(sess,y_out,mean_loss,X_train,y_train,6,64,100,train_step,True)\n",
        "print('Validation')\n",
        "run_model(sess,y_out,mean_loss,X_val,y_val,1,64)"
      ],
      "execution_count": 40,
      "outputs": [
        {
          "output_type": "stream",
          "text": [
            "Training\n",
            "Iteration 0: with minibatch training loss = 2.96 and accuracy of 0.094\n",
            "Iteration 100: with minibatch training loss = 1.67 and accuracy of 0.36\n",
            "Iteration 200: with minibatch training loss = 1.32 and accuracy of 0.48\n",
            "Iteration 300: with minibatch training loss = 1.36 and accuracy of 0.45\n",
            "Iteration 400: with minibatch training loss = 1.26 and accuracy of 0.56\n",
            "Iteration 500: with minibatch training loss = 1.02 and accuracy of 0.56\n",
            "Iteration 600: with minibatch training loss = 1.04 and accuracy of 0.61\n",
            "Iteration 700: with minibatch training loss = 1.03 and accuracy of 0.61\n",
            "Epoch 1, Overall loss = 1.3 and accuracy of 0.565\n"
          ],
          "name": "stdout"
        },
        {
          "output_type": "display_data",
          "data": {
            "image/png": "[encoded data removed]",
            "text/plain": [
              "<matplotlib.figure.Figure at 0x7f3c181878d0>"
            ]
          },
          "metadata": {
            "tags": []
          }
        },
        {
          "output_type": "stream",
          "text": [
            "Iteration 800: with minibatch training loss = 1.05 and accuracy of 0.58\n",
            "Iteration 900: with minibatch training loss = 0.834 and accuracy of 0.67\n",
            "Iteration 1000: with minibatch training loss = 0.694 and accuracy of 0.7\n",
            "Iteration 1100: with minibatch training loss = 0.916 and accuracy of 0.69\n",
            "Iteration 1200: with minibatch training loss = 0.77 and accuracy of 0.69\n",
            "Iteration 1300: with minibatch training loss = 0.523 and accuracy of 0.81\n",
            "Iteration 1400: with minibatch training loss = 0.805 and accuracy of 0.72\n",
            "Iteration 1500: with minibatch training loss = 0.867 and accuracy of 0.7\n",
            "Epoch 2, Overall loss = 0.837 and accuracy of 0.711\n"
          ],
          "name": "stdout"
        },
        {
          "output_type": "display_data",
          "data": {
            "image/png": "[encoded data removed]",
            "text/plain": [
              "<matplotlib.figure.Figure at 0x7f3c183323c8>"
            ]
          },
          "metadata": {
            "tags": []
          }
        },
        {
          "output_type": "stream",
          "text": [
            "Iteration 1600: with minibatch training loss = 0.473 and accuracy of 0.81\n",
            "Iteration 1700: with minibatch training loss = 0.503 and accuracy of 0.81\n",
            "Iteration 1800: with minibatch training loss = 0.565 and accuracy of 0.81\n",
            "Iteration 1900: with minibatch training loss = 0.335 and accuracy of 0.94\n",
            "Iteration 2000: with minibatch training loss = 0.553 and accuracy of 0.8\n",
            "Iteration 2100: with minibatch training loss = 0.682 and accuracy of 0.8\n",
            "Iteration 2200: with minibatch training loss = 0.833 and accuracy of 0.75\n",
            "Epoch 3, Overall loss = 0.585 and accuracy of 0.798\n"
          ],
          "name": "stdout"
        },
        {
          "output_type": "display_data",
          "data": {
            "image/png": "[encoded data removed]",
            "text/plain": [
              "<matplotlib.figure.Figure at 0x7f3c18919908>"
            ]
          },
          "metadata": {
            "tags": []
          }
        },
        {
          "output_type": "stream",
          "text": [
            "Iteration 2300: with minibatch training loss = 0.522 and accuracy of 0.81\n",
            "Iteration 2400: with minibatch training loss = 0.429 and accuracy of 0.86\n",
            "Iteration 2500: with minibatch training loss = 0.56 and accuracy of 0.81\n",
            "Iteration 2600: with minibatch training loss = 0.385 and accuracy of 0.83\n",
            "Iteration 2700: with minibatch training loss = 0.44 and accuracy of 0.86\n",
            "Iteration 2800: with minibatch training loss = 0.357 and accuracy of 0.89\n",
            "Iteration 2900: with minibatch training loss = 0.432 and accuracy of 0.84\n",
            "Iteration 3000: with minibatch training loss = 0.273 and accuracy of 0.91\n",
            "Epoch 4, Overall loss = 0.341 and accuracy of 0.884\n"
          ],
          "name": "stdout"
        },
        {
          "output_type": "display_data",
          "data": {
            "image/png": "[encoded data removed]",
            "text/plain": [
              "<matplotlib.figure.Figure at 0x7f3c1892f4a8>"
            ]
          },
          "metadata": {
            "tags": []
          }
        },
        {
          "output_type": "stream",
          "text": [
            "Iteration 3100: with minibatch training loss = 0.205 and accuracy of 0.91\n",
            "Iteration 3200: with minibatch training loss = 0.226 and accuracy of 0.92\n",
            "Iteration 3300: with minibatch training loss = 0.139 and accuracy of 0.95\n",
            "Iteration 3400: with minibatch training loss = 0.27 and accuracy of 0.91\n",
            "Iteration 3500: with minibatch training loss = 0.0833 and accuracy of 0.98\n",
            "Iteration 3600: with minibatch training loss = 0.278 and accuracy of 0.89\n",
            "Iteration 3700: with minibatch training loss = 0.266 and accuracy of 0.91\n",
            "Iteration 3800: with minibatch training loss = 0.146 and accuracy of 0.97\n",
            "Epoch 5, Overall loss = 0.164 and accuracy of 0.946\n"
          ],
          "name": "stdout"
        },
        {
          "output_type": "display_data",
          "data": {
            "image/png": "[encoded data removed]",
            "text/plain": [
              "<matplotlib.figure.Figure at 0x7f3c17f566a0>"
            ]
          },
          "metadata": {
            "tags": []
          }
        },
        {
          "output_type": "stream",
          "text": [
            "Iteration 3900: with minibatch training loss = 0.0693 and accuracy of 0.98\n",
            "Iteration 4000: with minibatch training loss = 0.0665 and accuracy of 0.97\n",
            "Iteration 4100: with minibatch training loss = 0.0712 and accuracy of 0.97\n",
            "Iteration 4200: with minibatch training loss = 0.129 and accuracy of 0.97\n",
            "Iteration 4300: with minibatch training loss = 0.259 and accuracy of 0.94\n",
            "Iteration 4400: with minibatch training loss = 0.17 and accuracy of 0.94\n",
            "Iteration 4500: with minibatch training loss = 0.0619 and accuracy of 0.98\n",
            "Epoch 6, Overall loss = 0.098 and accuracy of 0.969\n"
          ],
          "name": "stdout"
        },
        {
          "output_type": "display_data",
          "data": {
            "image/png": "[encoded data removed]",
            "text/plain": [
              "<matplotlib.figure.Figure at 0x7f3c1804c588>"
            ]
          },
          "metadata": {
            "tags": []
          }
        },
        {
          "output_type": "stream",
          "text": [
            "Validation\n",
            "Epoch 1, Overall loss = 1.12 and accuracy of 0.73\n"
          ],
          "name": "stdout"
        },
        {
          "output_type": "execute_result",
          "data": {
            "text/plain": [
              "(1.1202774276733398, 0.73)"
            ]
          },
          "metadata": {
            "tags": []
          },
          "execution_count": 40
        }
      ]
    },
    {
      "metadata": {
        "id": "uW8J5Rb3WZCn",
        "colab_type": "code",
        "colab": {
          "autoexec": {
            "startup": false,
            "wait_interval": 0
          },
          "output_extras": [
            {
              "item_id": 3
            },
            {
              "item_id": 4
            }
          ],
          "base_uri": "https://localhost:8080/",
          "height": 102
        },
        "outputId": "4030abed-e9e9-4db8-abbe-87b92ba7979a",
        "executionInfo": {
          "status": "ok",
          "timestamp": 1518787082931,
          "user_tz": -480,
          "elapsed": 12622,
          "user": {
            "displayName": "Yanran Wu",
            "photoUrl": "https://lh3.googleusercontent.com/a/default-user=s128",
            "userId": "106541725246409677955"
          }
        }
      },
      "cell_type": "code",
      "source": [
        "# Test your model here, and make sure \n",
        "# the output of this cell is the accuracy\n",
        "# of your best model on the training and val sets\n",
        "# We're looking for >= 70% accuracy on Validation\n",
        "print('Training')\n",
        "run_model(sess,y_out,mean_loss,X_train,y_train,1,64)\n",
        "print('Validation')\n",
        "run_model(sess,y_out,mean_loss,X_val,y_val,1,64)"
      ],
      "execution_count": 41,
      "outputs": [
        {
          "output_type": "stream",
          "text": [
            "Training\n",
            "Epoch 1, Overall loss = 0.111 and accuracy of 0.963\n",
            "Validation\n",
            "Epoch 1, Overall loss = 1.12 and accuracy of 0.73\n"
          ],
          "name": "stdout"
        },
        {
          "output_type": "execute_result",
          "data": {
            "text/plain": [
              "(1.12027747297287, 0.73)"
            ]
          },
          "metadata": {
            "tags": []
          },
          "execution_count": 41
        }
      ]
    },
    {
      "metadata": {
        "id": "fV99LyNeWZCr",
        "colab_type": "text"
      },
      "cell_type": "markdown",
      "source": [
        "### Describe what you did here\n",
        "In this cell you should also write an explanation of what you did, any additional features that you implemented, and any visualizations or graphs that you make in the process of training and evaluating your network"
      ]
    },
    {
      "metadata": {
        "id": "99tuPuk4WZCs",
        "colab_type": "text"
      },
      "cell_type": "markdown",
      "source": [
        "_Tell us here_"
      ]
    },
    {
      "metadata": {
        "id": "kyipw4OaWZCt",
        "colab_type": "text"
      },
      "cell_type": "markdown",
      "source": [
        "### Test Set - Do this only once\n",
        "Now that we've gotten a result that we're happy with, we test our final model on the test set. This would be the score we would achieve on a competition. Think about how this compares to your validation set accuracy."
      ]
    },
    {
      "metadata": {
        "id": "Ph-NieHsWZCu",
        "colab_type": "code",
        "colab": {
          "autoexec": {
            "startup": false,
            "wait_interval": 0
          },
          "output_extras": [
            {
              "item_id": 2
            },
            {
              "item_id": 3
            }
          ],
          "base_uri": "https://localhost:8080/",
          "height": 68
        },
        "outputId": "1373f69c-9bc8-42af-e0bb-921918bc1623",
        "executionInfo": {
          "status": "ok",
          "timestamp": 1518787092472,
          "user_tz": -480,
          "elapsed": 3542,
          "user": {
            "displayName": "Yanran Wu",
            "photoUrl": "https://lh3.googleusercontent.com/a/default-user=s128",
            "userId": "106541725246409677955"
          }
        }
      },
      "cell_type": "code",
      "source": [
        "print('Test')\n",
        "run_model(sess,y_out,mean_loss,X_test,y_test,1,64)"
      ],
      "execution_count": 42,
      "outputs": [
        {
          "output_type": "stream",
          "text": [
            "Test\n",
            "Epoch 1, Overall loss = 1.26 and accuracy of 0.713\n"
          ],
          "name": "stdout"
        },
        {
          "output_type": "execute_result",
          "data": {
            "text/plain": [
              "(1.2596257458686828, 0.7133)"
            ]
          },
          "metadata": {
            "tags": []
          },
          "execution_count": 42
        }
      ]
    },
    {
      "metadata": {
        "id": "WJWgXSC6WZCv",
        "colab_type": "text"
      },
      "cell_type": "markdown",
      "source": [
        "## Going further with TensorFlow\n",
        "\n",
        "The next assignment will make heavy use of TensorFlow. You might also find it useful for your projects. \n"
      ]
    },
    {
      "metadata": {
        "id": "kZXP-UgrWZCx",
        "colab_type": "text"
      },
      "cell_type": "markdown",
      "source": [
        "# Extra Credit Description\n",
        "If you implement any additional features for extra credit, clearly describe them here with pointers to any code in this or other files if applicable."
      ]
    }
  ]
}